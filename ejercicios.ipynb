{
 "cells": [
  {
   "cell_type": "code",
   "execution_count": 5,
   "metadata": {},
   "outputs": [],
   "source": [
    "def exer1():\n",
    "    pais = \"Austria\" #string\n",
    "    continente = \"Europa\" #string\n",
    "    print(pais, \"-\", continente)"
   ]
  },
  {
   "cell_type": "code",
   "execution_count": 12,
   "metadata": {},
   "outputs": [],
   "source": [
    "def exer2():\n",
    "    a = []\n",
    "    for i in range(121):\n",
    "        if i%2 == 0:\n",
    "            a.append(i)\n",
    "    print(a)"
   ]
  },
  {
   "cell_type": "code",
   "execution_count": 16,
   "metadata": {},
   "outputs": [],
   "source": [
    "def exer3():\n",
    "    a = []\n",
    "    b = []\n",
    "    h = 0\n",
    "    for i in range(61):\n",
    "        j = i**2\n",
    "        a.append(j)\n",
    "    print(a)\n",
    "    while h <= 60:\n",
    "        k = h**2\n",
    "        b.append(k)\n",
    "        h += 1\n",
    "    print(b)"
   ]
  },
  {
   "cell_type": "code",
   "execution_count": 21,
   "metadata": {},
   "outputs": [],
   "source": [
    "def exer4():\n",
    "    x = int(input(\"Dame un numero\"))\n",
    "    y = int(input(\"Dame otro numero\"))\n",
    "    a = x+y\n",
    "    b = x-y\n",
    "    c = x*y\n",
    "    d = x/y\n",
    "    print(a,\", \", b,\", \", c,\", \", d)"
   ]
  },
  {
   "cell_type": "code",
   "execution_count": 26,
   "metadata": {},
   "outputs": [],
   "source": [
    "def exer5():\n",
    "    x = int(input(\"Dame un numero\"))\n",
    "    y = int(input(\"Dame otro numero\"))\n",
    "    if x < y:\n",
    "        for i in range(x, y+1):\n",
    "            print(i)\n",
    "    elif y < x:\n",
    "        for i in range(y, x+1):\n",
    "            print(i)\n",
    "    else:\n",
    "        print(0)"
   ]
  },
  {
   "cell_type": "code",
   "execution_count": 30,
   "metadata": {},
   "outputs": [],
   "source": [
    "def exer6():\n",
    "    for i in range(1, 11):\n",
    "        print(\"Tabla del \", i)\n",
    "        for j in range(1, 10):\n",
    "            x = i*j\n",
    "            print(x)\n",
    "            j += 1\n",
    "        i += 1"
   ]
  },
  {
   "cell_type": "code",
   "execution_count": 35,
   "metadata": {},
   "outputs": [],
   "source": [
    "def exer7():\n",
    "    x = int(input(\"Dame un numero\"))\n",
    "    y = int(input(\"Dame otro numero\"))\n",
    "    a =[]\n",
    "    if x < y:\n",
    "        for i in range(x, y+1):\n",
    "            if i%2 != 0:\n",
    "                a.append(i)\n",
    "        print(a)\n",
    "    elif y < x:\n",
    "        for i in range(y, x+1):\n",
    "            if i%2 != 0:\n",
    "                a.append(i)\n",
    "        print(a)\n",
    "    else:\n",
    "        print(0)"
   ]
  },
  {
   "cell_type": "code",
   "execution_count": 44,
   "metadata": {},
   "outputs": [],
   "source": [
    "def exer8():\n",
    "    x = int(input(\"Dame un numero\"))\n",
    "    y = int(input(\"Que porcentaje del numero anterior deseas?\"))\n",
    "    z = x*(y/100)\n",
    "    print(z)"
   ]
  },
  {
   "cell_type": "code",
   "execution_count": 46,
   "metadata": {},
   "outputs": [],
   "source": [
    "def exer9():\n",
    "    x = 0\n",
    "    while x != 111:\n",
    "        x = int(input(\"Dame un numero\"))\n",
    "        print(x)"
   ]
  },
  {
   "cell_type": "code",
   "execution_count": 3,
   "metadata": {},
   "outputs": [],
   "source": [
    "def exer10():\n",
    "    a = 0\n",
    "    b = 0\n",
    "    for i in range(15):\n",
    "        x = int(input(\"Dame la calificacion del alumno\"))\n",
    "        if x >= 6:\n",
    "            a += 1\n",
    "        else:\n",
    "            b += 1\n",
    "    print(\" Alumnos aprobados: \", a, \"\\n\", \"Alumnos reprobados: \", b)"
   ]
  },
  {
   "cell_type": "code",
   "execution_count": 10,
   "metadata": {},
   "outputs": [],
   "source": [
    "def exer11():\n",
    "    a = [11, 2, 53, 41, 25, 67, 7, 48]\n",
    "    print(len(a))\n",
    "    a += [a.pop(0)]\n",
    "    print(a)\n",
    "    a.sort()\n",
    "    for i in a:\n",
    "        print(i)\n",
    "    x = int(input(\"Que numero estas buscando?\"))\n",
    "    if x in a:\n",
    "        print(\"Este es el numero que querias:\", x)\n",
    "    else:\n",
    "        print(\"Ese numero no esta en la lista\")"
   ]
  },
  {
   "cell_type": "code",
   "execution_count": 28,
   "metadata": {},
   "outputs": [],
   "source": [
    "def exer12():\n",
    "    i = 0\n",
    "    a = []\n",
    "    b = []\n",
    "    while i < 12:\n",
    "        x = int(input(\"Ingresa un numero a la lista\"))\n",
    "        a.append(x)\n",
    "        i += 1\n",
    "    print(a)\n",
    "    for j in range(0, 12):\n",
    "        b.append(j)\n",
    "        j += 1\n",
    "    print(b)\n"
   ]
  },
  {
   "cell_type": "code",
   "execution_count": 45,
   "metadata": {},
   "outputs": [],
   "source": [
    "def exer13():\n",
    "    x = input()\n",
    "    if x == \" \" or x == \"\":\n",
    "        y = input(\"Ingresa una palabra\")\n",
    "        print(y.upper())\n",
    "    else:\n",
    "        print(\"La variable tiene contenido\")"
   ]
  },
  {
   "cell_type": "code",
   "execution_count": 66,
   "metadata": {},
   "outputs": [],
   "source": [
    "def exer14():\n",
    "    a = [1, \"platano\", True, 3.8]\n",
    "    b = \"corazon\"\n",
    "    c = 12\n",
    "    d = False\n",
    "    x = [a, b, c, d]\n",
    "    y = int(input(\"Escoge un numero del 0 al 3\"))\n",
    "    print(x[y])\n",
    "    if y == 0:\n",
    "        print(\"Escogiste un: \", type(a))\n",
    "    elif y == 1:\n",
    "        print(\"Escogiste un: \", type(b))\n",
    "    elif y == 2:\n",
    "        print(\"Escogiste un: \", type|(c))\n",
    "    else:\n",
    "        print(\"Escogiste un: \", type(d))"
   ]
  },
  {
   "cell_type": "code",
   "execution_count": 80,
   "metadata": {},
   "outputs": [],
   "source": [
    "def exer15():\n",
    "    a = [ {\"Categoria\": \"Accion\", \"Juegos\": [\"Titanfall\", \"Apex\", \"Fortnite\"]}, \n",
    "    {\"Categoria\": \"Aventura\", \"Juegos\": [\"Zelda\", \"RDR\", \"Dark Souls\"]}, \n",
    "    {\"Categoria\": \"Deportes\", \"Juegos\": [\"FIFA\", \"F1\", \"UFC 4\"]}]\n",
    "    for i in a:\n",
    "        print(\"------\")\n",
    "        print(i[\"Categoria\"])\n",
    "        print(\"------\")\n",
    "        for j in i[\"Juegos\"]:\n",
    "            print(j)"
   ]
  },
  {
   "cell_type": "code",
   "execution_count": 81,
   "metadata": {},
   "outputs": [
    {
     "name": "stdout",
     "output_type": "stream",
     "text": [
      "------\n",
      "Accion\n",
      "------\n",
      "Titanfall\n",
      "Apex\n",
      "Fortnite\n",
      "------\n",
      "Aventura\n",
      "------\n",
      "Zelda\n",
      "RDR\n",
      "Dark Souls\n",
      "------\n",
      "Deportes\n",
      "------\n",
      "FIFA\n",
      "F1\n",
      "UFC 4\n"
     ]
    }
   ],
   "source": [
    "exer15()"
   ]
  },
  {
   "cell_type": "code",
   "execution_count": null,
   "metadata": {},
   "outputs": [],
   "source": []
  }
 ],
 "metadata": {
  "interpreter": {
   "hash": "31f2aee4e71d21fbe5cf8b01ff0e069b9275f58929596ceb00d14d90e3e16cd6"
  },
  "kernelspec": {
   "display_name": "Python 3.8.9 64-bit",
   "language": "python",
   "name": "python3"
  },
  "language_info": {
   "codemirror_mode": {
    "name": "ipython",
    "version": 3
   },
   "file_extension": ".py",
   "mimetype": "text/x-python",
   "name": "python",
   "nbconvert_exporter": "python",
   "pygments_lexer": "ipython3",
   "version": "3.9.9"
  },
  "orig_nbformat": 4
 },
 "nbformat": 4,
 "nbformat_minor": 2
}
