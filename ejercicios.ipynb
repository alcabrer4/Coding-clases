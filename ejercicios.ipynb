{
 "cells": [
  {
   "cell_type": "code",
   "execution_count": 5,
   "metadata": {},
   "outputs": [],
   "source": [
    "def exer1():\n",
    "    pais = \"Austria\" #string\n",
    "    continente = \"Europa\" #string\n",
    "    print(pais, \"-\", continente)"
   ]
  },
  {
   "cell_type": "code",
   "execution_count": 12,
   "metadata": {},
   "outputs": [],
   "source": [
    "def exer2():\n",
    "    a = []\n",
    "    for i in range(121):\n",
    "        if i%2 == 0:\n",
    "            a.append(i)\n",
    "    print(a)"
   ]
  },
  {
   "cell_type": "code",
   "execution_count": 16,
   "metadata": {},
   "outputs": [],
   "source": [
    "def exer3():\n",
    "    a = []\n",
    "    b = []\n",
    "    h = 0\n",
    "    for i in range(61):\n",
    "        j = i**2\n",
    "        a.append(j)\n",
    "    print(a)\n",
    "    while h <= 60:\n",
    "        k = h**2\n",
    "        b.append(k)\n",
    "        h += 1\n",
    "    print(b)"
   ]
  },
  {
   "cell_type": "code",
   "execution_count": 21,
   "metadata": {},
   "outputs": [],
   "source": [
    "def exer4():\n",
    "    x = int(input(\"Dame un numero\"))\n",
    "    y = int(input(\"Dame otro numero\"))\n",
    "    a = x+y\n",
    "    b = x-y\n",
    "    c = x*y\n",
    "    d = x/y\n",
    "    print(a,\", \", b,\", \", c,\", \", d)"
   ]
  },
  {
   "cell_type": "code",
   "execution_count": 26,
   "metadata": {},
   "outputs": [],
   "source": [
    "def exer5():\n",
    "    x = int(input(\"Dame un numero\"))\n",
    "    y = int(input(\"Dame otro numero\"))\n",
    "    if x < y:\n",
    "        for i in range(x, y+1):\n",
    "            print(i)\n",
    "    elif y < x:\n",
    "        for i in range(y, x+1):\n",
    "            print(i)\n",
    "    else:\n",
    "        print(0)"
   ]
  },
  {
   "cell_type": "code",
   "execution_count": 30,
   "metadata": {},
   "outputs": [],
   "source": [
    "def exer6():\n",
    "    for i in range(1, 11):\n",
    "        print(\"Tabla del \", i)\n",
    "        for j in range(1, 10):\n",
    "            x = i*j\n",
    "            print(x)\n",
    "            j += 1\n",
    "        i += 1"
   ]
  },
  {
   "cell_type": "code",
   "execution_count": 35,
   "metadata": {},
   "outputs": [],
   "source": [
    "def exer7():\n",
    "    x = int(input(\"Dame un numero\"))\n",
    "    y = int(input(\"Dame otro numero\"))\n",
    "    a =[]\n",
    "    if x < y:\n",
    "        for i in range(x, y+1):\n",
    "            if i%2 != 0:\n",
    "                a.append(i)\n",
    "        print(a)\n",
    "    elif y < x:\n",
    "        for i in range(y, x+1):\n",
    "            if i%2 != 0:\n",
    "                a.append(i)\n",
    "        print(a)\n",
    "    else:\n",
    "        print(0)"
   ]
  },
  {
   "cell_type": "code",
   "execution_count": 44,
   "metadata": {},
   "outputs": [],
   "source": [
    "def exer8():\n",
    "    x = int(input(\"Dame un numero\"))\n",
    "    y = int(input(\"Que porcentaje del numero anterior deseas?\"))\n",
    "    z = x*(y/100)\n",
    "    print(z)"
   ]
  },
  {
   "cell_type": "code",
   "execution_count": 46,
   "metadata": {},
   "outputs": [],
   "source": [
    "def exer9():\n",
    "    x = 0\n",
    "    while x != 111:\n",
    "        x = int(input(\"Dame un numero\"))\n",
    "        print(x)"
   ]
  },
  {
   "cell_type": "code",
   "execution_count": 3,
   "metadata": {},
   "outputs": [],
   "source": [
    "def exer10():\n",
    "    a = 0\n",
    "    b = 0\n",
    "    for i in range(15):\n",
    "        x = int(input(\"Dame la calificacion del alumno\"))\n",
    "        if x >= 6:\n",
    "            a += 1\n",
    "        else:\n",
    "            b += 1\n",
    "    print(\" Alumnos aprobados: \", a, \"\\n\", \"Alumnos reprobados: \", b)"
   ]
  },
  {
   "cell_type": "code",
   "execution_count": 4,
   "metadata": {},
   "outputs": [
    {
     "name": "stdout",
     "output_type": "stream",
     "text": [
      " Alumnos aprobados:  10 \n",
      " Alumnos reprobados:  5\n"
     ]
    }
   ],
   "source": [
    "exer10()"
   ]
  }
 ],
 "metadata": {
  "interpreter": {
   "hash": "31f2aee4e71d21fbe5cf8b01ff0e069b9275f58929596ceb00d14d90e3e16cd6"
  },
  "kernelspec": {
   "display_name": "Python 3.8.9 64-bit",
   "language": "python",
   "name": "python3"
  },
  "language_info": {
   "codemirror_mode": {
    "name": "ipython",
    "version": 3
   },
   "file_extension": ".py",
   "mimetype": "text/x-python",
   "name": "python",
   "nbconvert_exporter": "python",
   "pygments_lexer": "ipython3",
   "version": "3.8.9"
  },
  "orig_nbformat": 4
 },
 "nbformat": 4,
 "nbformat_minor": 2
}
